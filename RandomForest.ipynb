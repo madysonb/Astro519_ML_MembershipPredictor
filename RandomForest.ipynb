{
  "nbformat": 4,
  "nbformat_minor": 0,
  "metadata": {
    "colab": {
      "name": "RandomForest.ipynb",
      "provenance": [],
      "collapsed_sections": []
    },
    "kernelspec": {
      "name": "python3",
      "display_name": "Python 3"
    },
    "language_info": {
      "name": "python"
    }
  },
  "cells": [
    {
      "cell_type": "code",
      "metadata": {
        "id": "2hDNACqt048e",
        "colab": {
          "base_uri": "https://localhost:8080/"
        },
        "outputId": "39f0faf4-dcb6-4f33-9f64-68c57724242d"
      },
      "source": [
        "## importing needed packages -- if something stops working uncomment and run\n",
        "!pip install astroquery\n",
        "!pip install emcee\n",
        "!pip install multiprocess\n",
        "!pip install galpy\n",
        "!pip install corner\n",
        "#!pip install fig_code"
      ],
      "execution_count": 1,
      "outputs": [
        {
          "output_type": "stream",
          "name": "stdout",
          "text": [
            "Collecting astroquery\n",
            "  Downloading astroquery-0.4.4-py3-none-any.whl (4.5 MB)\n",
            "\u001b[K     |████████████████████████████████| 4.5 MB 31.2 MB/s \n",
            "\u001b[?25hRequirement already satisfied: requests>=2.4.3 in /usr/local/lib/python3.7/dist-packages (from astroquery) (2.23.0)\n",
            "Collecting keyring>=4.0\n",
            "  Downloading keyring-23.4.0-py3-none-any.whl (33 kB)\n",
            "Collecting pyvo>=1.1\n",
            "  Downloading pyvo-1.1-py3-none-any.whl (802 kB)\n",
            "\u001b[K     |████████████████████████████████| 802 kB 31.0 MB/s \n",
            "\u001b[?25hRequirement already satisfied: astropy>=4.0 in /usr/local/lib/python3.7/dist-packages (from astroquery) (4.3.1)\n",
            "Requirement already satisfied: beautifulsoup4>=4.3.2 in /usr/local/lib/python3.7/dist-packages (from astroquery) (4.6.3)\n",
            "Requirement already satisfied: numpy>=1.16 in /usr/local/lib/python3.7/dist-packages (from astroquery) (1.19.5)\n",
            "Requirement already satisfied: html5lib>=0.999 in /usr/local/lib/python3.7/dist-packages (from astroquery) (1.0.1)\n",
            "Requirement already satisfied: pyerfa>=1.7.3 in /usr/local/lib/python3.7/dist-packages (from astropy>=4.0->astroquery) (2.0.0.1)\n",
            "Requirement already satisfied: importlib-metadata in /usr/local/lib/python3.7/dist-packages (from astropy>=4.0->astroquery) (4.8.2)\n",
            "Requirement already satisfied: webencodings in /usr/local/lib/python3.7/dist-packages (from html5lib>=0.999->astroquery) (0.5.1)\n",
            "Requirement already satisfied: six>=1.9 in /usr/local/lib/python3.7/dist-packages (from html5lib>=0.999->astroquery) (1.15.0)\n",
            "Collecting jeepney>=0.4.2\n",
            "  Downloading jeepney-0.7.1-py3-none-any.whl (54 kB)\n",
            "\u001b[K     |████████████████████████████████| 54 kB 2.5 MB/s \n",
            "\u001b[?25hCollecting SecretStorage>=3.2\n",
            "  Downloading SecretStorage-3.3.1-py3-none-any.whl (15 kB)\n",
            "Requirement already satisfied: zipp>=0.5 in /usr/local/lib/python3.7/dist-packages (from importlib-metadata->astropy>=4.0->astroquery) (3.6.0)\n",
            "Requirement already satisfied: typing-extensions>=3.6.4 in /usr/local/lib/python3.7/dist-packages (from importlib-metadata->astropy>=4.0->astroquery) (3.10.0.2)\n",
            "Collecting mimeparse\n",
            "  Downloading mimeparse-0.1.3.tar.gz (4.4 kB)\n",
            "Requirement already satisfied: urllib3!=1.25.0,!=1.25.1,<1.26,>=1.21.1 in /usr/local/lib/python3.7/dist-packages (from requests>=2.4.3->astroquery) (1.24.3)\n",
            "Requirement already satisfied: certifi>=2017.4.17 in /usr/local/lib/python3.7/dist-packages (from requests>=2.4.3->astroquery) (2021.10.8)\n",
            "Requirement already satisfied: chardet<4,>=3.0.2 in /usr/local/lib/python3.7/dist-packages (from requests>=2.4.3->astroquery) (3.0.4)\n",
            "Requirement already satisfied: idna<3,>=2.5 in /usr/local/lib/python3.7/dist-packages (from requests>=2.4.3->astroquery) (2.10)\n",
            "Collecting cryptography>=2.0\n",
            "  Downloading cryptography-36.0.0-cp36-abi3-manylinux_2_24_x86_64.whl (3.6 MB)\n",
            "\u001b[K     |████████████████████████████████| 3.6 MB 63.6 MB/s \n",
            "\u001b[?25hRequirement already satisfied: cffi>=1.12 in /usr/local/lib/python3.7/dist-packages (from cryptography>=2.0->SecretStorage>=3.2->keyring>=4.0->astroquery) (1.15.0)\n",
            "Requirement already satisfied: pycparser in /usr/local/lib/python3.7/dist-packages (from cffi>=1.12->cryptography>=2.0->SecretStorage>=3.2->keyring>=4.0->astroquery) (2.21)\n",
            "Building wheels for collected packages: mimeparse\n",
            "  Building wheel for mimeparse (setup.py) ... \u001b[?25l\u001b[?25hdone\n",
            "  Created wheel for mimeparse: filename=mimeparse-0.1.3-py3-none-any.whl size=3864 sha256=f561cfdfd5d9c02ccdc0cfd120881ee55319ea039271cf12d6e00df19843ba6d\n",
            "  Stored in directory: /root/.cache/pip/wheels/49/b4/2d/0081759ae1833bd694024801f7aacddcda8a687e8d5fbaeebd\n",
            "Successfully built mimeparse\n",
            "Installing collected packages: jeepney, cryptography, SecretStorage, mimeparse, pyvo, keyring, astroquery\n",
            "Successfully installed SecretStorage-3.3.1 astroquery-0.4.4 cryptography-36.0.0 jeepney-0.7.1 keyring-23.4.0 mimeparse-0.1.3 pyvo-1.1\n",
            "Collecting emcee\n",
            "  Downloading emcee-3.1.1-py2.py3-none-any.whl (45 kB)\n",
            "\u001b[K     |████████████████████████████████| 45 kB 3.4 MB/s \n",
            "\u001b[?25hRequirement already satisfied: numpy in /usr/local/lib/python3.7/dist-packages (from emcee) (1.19.5)\n",
            "Installing collected packages: emcee\n",
            "Successfully installed emcee-3.1.1\n",
            "Requirement already satisfied: multiprocess in /usr/local/lib/python3.7/dist-packages (0.70.12.2)\n",
            "Requirement already satisfied: dill>=0.3.4 in /usr/local/lib/python3.7/dist-packages (from multiprocess) (0.3.4)\n",
            "Collecting galpy\n",
            "  Downloading galpy-1.7.1-cp37-cp37m-manylinux_2_17_x86_64.manylinux2014_x86_64.whl (6.0 MB)\n",
            "\u001b[K     |████████████████████████████████| 6.0 MB 27.7 MB/s \n",
            "\u001b[?25hRequirement already satisfied: matplotlib in /usr/local/lib/python3.7/dist-packages (from galpy) (3.2.2)\n",
            "Requirement already satisfied: future in /usr/local/lib/python3.7/dist-packages (from galpy) (0.16.0)\n",
            "Requirement already satisfied: numpy>=1.7 in /usr/local/lib/python3.7/dist-packages (from galpy) (1.19.5)\n",
            "Requirement already satisfied: scipy in /usr/local/lib/python3.7/dist-packages (from galpy) (1.4.1)\n",
            "Requirement already satisfied: pytest in /usr/local/lib/python3.7/dist-packages (from galpy) (3.6.4)\n",
            "Requirement already satisfied: six in /usr/local/lib/python3.7/dist-packages (from galpy) (1.15.0)\n",
            "Requirement already satisfied: setuptools in /usr/local/lib/python3.7/dist-packages (from galpy) (57.4.0)\n",
            "Requirement already satisfied: python-dateutil>=2.1 in /usr/local/lib/python3.7/dist-packages (from matplotlib->galpy) (2.8.2)\n",
            "Requirement already satisfied: cycler>=0.10 in /usr/local/lib/python3.7/dist-packages (from matplotlib->galpy) (0.11.0)\n",
            "Requirement already satisfied: pyparsing!=2.0.4,!=2.1.2,!=2.1.6,>=2.0.1 in /usr/local/lib/python3.7/dist-packages (from matplotlib->galpy) (3.0.6)\n",
            "Requirement already satisfied: kiwisolver>=1.0.1 in /usr/local/lib/python3.7/dist-packages (from matplotlib->galpy) (1.3.2)\n",
            "Requirement already satisfied: pluggy<0.8,>=0.5 in /usr/local/lib/python3.7/dist-packages (from pytest->galpy) (0.7.1)\n",
            "Requirement already satisfied: more-itertools>=4.0.0 in /usr/local/lib/python3.7/dist-packages (from pytest->galpy) (8.12.0)\n",
            "Requirement already satisfied: atomicwrites>=1.0 in /usr/local/lib/python3.7/dist-packages (from pytest->galpy) (1.4.0)\n",
            "Requirement already satisfied: attrs>=17.4.0 in /usr/local/lib/python3.7/dist-packages (from pytest->galpy) (21.2.0)\n",
            "Requirement already satisfied: py>=1.5.0 in /usr/local/lib/python3.7/dist-packages (from pytest->galpy) (1.11.0)\n",
            "Installing collected packages: galpy\n",
            "Successfully installed galpy-1.7.1\n",
            "Collecting corner\n",
            "  Downloading corner-2.2.1-py3-none-any.whl (15 kB)\n",
            "Requirement already satisfied: matplotlib>=2.1 in /usr/local/lib/python3.7/dist-packages (from corner) (3.2.2)\n",
            "Requirement already satisfied: numpy>=1.11 in /usr/local/lib/python3.7/dist-packages (from matplotlib>=2.1->corner) (1.19.5)\n",
            "Requirement already satisfied: python-dateutil>=2.1 in /usr/local/lib/python3.7/dist-packages (from matplotlib>=2.1->corner) (2.8.2)\n",
            "Requirement already satisfied: pyparsing!=2.0.4,!=2.1.2,!=2.1.6,>=2.0.1 in /usr/local/lib/python3.7/dist-packages (from matplotlib>=2.1->corner) (3.0.6)\n",
            "Requirement already satisfied: kiwisolver>=1.0.1 in /usr/local/lib/python3.7/dist-packages (from matplotlib>=2.1->corner) (1.3.2)\n",
            "Requirement already satisfied: cycler>=0.10 in /usr/local/lib/python3.7/dist-packages (from matplotlib>=2.1->corner) (0.11.0)\n",
            "Requirement already satisfied: six>=1.5 in /usr/local/lib/python3.7/dist-packages (from python-dateutil>=2.1->matplotlib>=2.1->corner) (1.15.0)\n",
            "Installing collected packages: corner\n",
            "Successfully installed corner-2.2.1\n"
          ]
        }
      ]
    },
    {
      "cell_type": "code",
      "metadata": {
        "id": "CrDWJlWg1L2e"
      },
      "source": [
        "import numpy as np\n",
        "import scipy\n",
        "from scipy import stats\n",
        "import matplotlib.pyplot as plt\n",
        "import os\n",
        "import numpy as np\n",
        "import matplotlib.pyplot as plt\n",
        "from scipy.signal import find_peaks\n",
        "import scipy.signal as signal\n",
        "from astropy.io import fits\n",
        "#from astroquery.vizier import Vizier\n",
        "import pandas as pd\n",
        "import numpy.random as random\n",
        "#import emcee\n",
        "#import corner\n",
        "import random\n",
        "import math as math\n",
        "from math import cos, sin\n",
        "from astropy.coordinates import SkyCoord\n",
        "#~~~~~~~~~~~~~~~~~~~~~~~~~~~~~~~~~~~~~~~~~~~~~~~~~~~~~~~~~~~~~~~~~~~~~~~~~~~~~~~~~~~~~~~~~~~~~~~~~~~~~~~~~~~~~~~~~~~~~~~\n",
        "#import fig_code\n",
        "#from fig_code import visualize_tree, plot_tree_interactive\n",
        "from sklearn.tree import DecisionTreeClassifier            # Import Decision Tree Classifier\n",
        "from sklearn.model_selection import train_test_split       # Import train_test_split function\n",
        "from sklearn import metrics                                #Import scikit-learn metrics module for accuracy calculation"
      ],
      "execution_count": 2,
      "outputs": []
    },
    {
      "cell_type": "code",
      "metadata": {
        "colab": {
          "base_uri": "https://localhost:8080/"
        },
        "id": "Ka0NTGplpcLH",
        "outputId": "60113c5c-8e9c-4ec4-e7a6-cafea744c437"
      },
      "source": [
        "!pip3 install pickle5\n",
        "import pickle5 as pickle"
      ],
      "execution_count": 3,
      "outputs": [
        {
          "output_type": "stream",
          "name": "stdout",
          "text": [
            "Collecting pickle5\n",
            "  Downloading pickle5-0.0.12-cp37-cp37m-manylinux_2_5_x86_64.manylinux1_x86_64.whl (256 kB)\n",
            "\u001b[?25l\r\u001b[K     |█▎                              | 10 kB 22.3 MB/s eta 0:00:01\r\u001b[K     |██▋                             | 20 kB 28.5 MB/s eta 0:00:01\r\u001b[K     |███▉                            | 30 kB 32.8 MB/s eta 0:00:01\r\u001b[K     |█████▏                          | 40 kB 33.8 MB/s eta 0:00:01\r\u001b[K     |██████▍                         | 51 kB 36.2 MB/s eta 0:00:01\r\u001b[K     |███████▊                        | 61 kB 32.2 MB/s eta 0:00:01\r\u001b[K     |█████████                       | 71 kB 29.2 MB/s eta 0:00:01\r\u001b[K     |██████████▎                     | 81 kB 26.2 MB/s eta 0:00:01\r\u001b[K     |███████████▌                    | 92 kB 25.8 MB/s eta 0:00:01\r\u001b[K     |████████████▉                   | 102 kB 27.3 MB/s eta 0:00:01\r\u001b[K     |██████████████                  | 112 kB 27.3 MB/s eta 0:00:01\r\u001b[K     |███████████████▍                | 122 kB 27.3 MB/s eta 0:00:01\r\u001b[K     |████████████████▋               | 133 kB 27.3 MB/s eta 0:00:01\r\u001b[K     |██████████████████              | 143 kB 27.3 MB/s eta 0:00:01\r\u001b[K     |███████████████████▏            | 153 kB 27.3 MB/s eta 0:00:01\r\u001b[K     |████████████████████▌           | 163 kB 27.3 MB/s eta 0:00:01\r\u001b[K     |█████████████████████▊          | 174 kB 27.3 MB/s eta 0:00:01\r\u001b[K     |███████████████████████         | 184 kB 27.3 MB/s eta 0:00:01\r\u001b[K     |████████████████████████▎       | 194 kB 27.3 MB/s eta 0:00:01\r\u001b[K     |█████████████████████████▋      | 204 kB 27.3 MB/s eta 0:00:01\r\u001b[K     |██████████████████████████▉     | 215 kB 27.3 MB/s eta 0:00:01\r\u001b[K     |████████████████████████████▏   | 225 kB 27.3 MB/s eta 0:00:01\r\u001b[K     |█████████████████████████████▍  | 235 kB 27.3 MB/s eta 0:00:01\r\u001b[K     |██████████████████████████████▊ | 245 kB 27.3 MB/s eta 0:00:01\r\u001b[K     |████████████████████████████████| 256 kB 27.3 MB/s eta 0:00:01\r\u001b[K     |████████████████████████████████| 256 kB 27.3 MB/s \n",
            "\u001b[?25hInstalling collected packages: pickle5\n",
            "Successfully installed pickle5-0.0.12\n"
          ]
        }
      ]
    },
    {
      "cell_type": "code",
      "metadata": {
        "colab": {
          "base_uri": "https://localhost:8080/"
        },
        "id": "dKVw04l_8P5-",
        "outputId": "7cba4492-b043-485e-a734-c3bb3beb5c7d"
      },
      "source": [
        "plt.style.use('seaborn')\n",
        "!apt-get -qq install -y fig_code && pip install fig_code\n",
        "import warnings\n",
        "warnings.filterwarnings('ignore')\n",
        "# import fig_code\n",
        "# fig_code.plot_example_decision_tree()"
      ],
      "execution_count": 4,
      "outputs": [
        {
          "output_type": "stream",
          "name": "stdout",
          "text": [
            "E: Unable to locate package fig_code\n"
          ]
        }
      ]
    },
    {
      "cell_type": "code",
      "metadata": {
        "id": "DUSRReVs1Nw0",
        "colab": {
          "base_uri": "https://localhost:8080/",
          "height": 314
        },
        "outputId": "929a7b1a-a00e-4d3b-8d44-da706c40a1c2"
      },
      "source": [
        "#~~~~~~~~~~~~~~~~~~~~~~~~~~~~~~~~~~~~~~~~~~~~~~~~~~~~~~~~~~~~~~~~~~~~~~~~~~~~~~~~~~~~~~~~~\n",
        "#CRITERA FOR THE RANDOM FOREST:\n",
        "#proper motion\n",
        "#rotation periods\n",
        "#~~~~~~~~~~~~~~~~~~~~~~~~~~~~~~~~~~~~~~~~~~~~~~~~~~~~~~~~~~~~~~~~~~~~~~~~~~~~~~~~~~~~~~~~~\n",
        "from sklearn.model_selection import train_test_split\n",
        "import pandas as pd\n",
        "from sklearn.ensemble import RandomForestClassifier\n",
        "from sklearn import metrics\n",
        "\n",
        "data = pickle.load(open(\"finalHyadesSet.pkl\", \"rb\"))\n",
        "#data[np.isnan(data)] = 0\n",
        "#for i in range(len(data[:,0])):\n",
        "#  set(data[:,i][~np.isnan(data[:,i])])\n",
        "\n",
        "\n",
        "#X = data[[\"RA\",\"DEC\",\"pmra\",\"pmdec\",\t\"plx\",\"gmagFlux\",\t\"gmagFluxErr\",\t\"gmagNobs\",\t\"expectedPoissonErr\",\t\"expectedPoisNobsErr\", \"poissonErrDiff\",\t\"poisNobsErrDiff\"]] # Star Features\n",
        "X = data[[\"poissonErrDiff\",\t\"poisNobsErrDiff\"]]\n",
        "y = data['Membership']  # Star Labels\n",
        "\n",
        "X_train, X_test, y_train, y_test = train_test_split(X, y, test_size = 0.3) #splitting data into training, test sets\n",
        "\n",
        "clf    = RandomForestClassifier(n_estimators=10)\n",
        "clf.fit(X_train,y_train)\n",
        "y_pred = clf.predict(X_test)\n",
        "print(\"Accuracy:\",metrics.accuracy_score(y_pred, y_test))\n",
        "print(\"HYADES\")\n",
        "\n",
        "import seaborn as sns\n",
        "%matplotlib inline\n",
        "# Creating a bar plot\n",
        "#feature_names = [\"RA\",\"DEC\",\"pmra\",\"pmdec\",\t\"plx\",\"gmagFlux\",\t\"gmagFluxErr\",\t\"gmagNobs\",\t\"expectedPoissonErr\",\t\"expectedPoisNobsErr\", \"poissonErrDiff\",\t\"poisNobsErrDiff\"]\n",
        "feature_names = [\"poissonErrDiff\",\t\"poisNobsErrDiff\"]\n",
        "feature_imp = pd.Series(clf.feature_importances_, index = feature_names).sort_values(ascending=False)\n",
        "feature_imp\n",
        "sns.barplot(x = feature_imp, y = feature_imp.index,palette=\"rocket\", label = \"n_estimator = 10\")\n",
        "# Add labels to your graph\n",
        "plt.xlabel('Feature Importance Score')\n",
        "plt.ylabel('Features')\n",
        "#plt.title(\"Visualizing Important Features\")\n",
        "plt.legend()\n",
        "plt.show()"
      ],
      "execution_count": null,
      "outputs": [
        {
          "output_type": "stream",
          "name": "stdout",
          "text": [
            "Accuracy: 0.9809322033898306\n",
            "HYADES\n"
          ]
        },
        {
          "output_type": "display_data",
          "data": {
            "image/png": "[encoded data removed]",
            "text/plain": [
              "<Figure size 432x288 with 1 Axes>"
            ]
          },
          "metadata": {
            "needs_background": "light"
          }
        }
      ]
    },
    {
      "cell_type": "code",
      "metadata": {
        "colab": {
          "base_uri": "https://localhost:8080/",
          "height": 313
        },
        "id": "_sqW7rS1slte",
        "outputId": "bd40db7d-6673-485e-dec0-4f45fc5461ab"
      },
      "source": [
        "#~~~~~~~~~~~~~~~~~~~~~~~~~~~~~~~~~~~~~~~~~~~~~~~~~~~~~~~~~~~~~~~~~~~~~~~~~~~~~~~~~~~~~~~~~\n",
        "#CRITERA FOR THE RANDOM FOREST:\n",
        "#proper motion\n",
        "#rotation periods\n",
        "#~~~~~~~~~~~~~~~~~~~~~~~~~~~~~~~~~~~~~~~~~~~~~~~~~~~~~~~~~~~~~~~~~~~~~~~~~~~~~~~~~~~~~~~~~\n",
        "from sklearn.model_selection import train_test_split\n",
        "import pandas as pd\n",
        "from sklearn.ensemble import RandomForestClassifier\n",
        "from sklearn import metrics\n",
        "\n",
        "data = pickle.load(open(\"finalPleiadesSet.pkl\", \"rb\"))\n",
        "#data[np.isnan(data)] = 0\n",
        "#for i in range(len(data[:,0])):\n",
        "#  set(data[:,i][~np.isnan(data[:,i])])\n",
        "\n",
        "X = data[[\"poissonErrDiff\",\t\"poisNobsErrDiff\"]]\n",
        "#X = data[[\"RA\",\"DEC\",\"pmra\",\"pmdec\",\t\"plx\",\"gmagFlux\",\t\"gmagFluxErr\",\t\"gmagNobs\",\t\"expectedPoissonErr\",\t\"expectedPoisNobsErr\", \"poissonErrDiff\",\t\"poisNobsErrDiff\"]] # Star Features\n",
        "y = data['Membership']  # Star Labels\n",
        "\n",
        "X_train, X_test, y_train, y_test = train_test_split(X, y, test_size = 0.3) #splitting data into training, test sets\n",
        "\n",
        "clf    = RandomForestClassifier(n_estimators=10)\n",
        "clf.fit(X_train,y_train)\n",
        "y_pred = clf.predict(X_test)\n",
        "print(\"Accuracy:\",metrics.accuracy_score(y_test, y_pred))\n",
        "print(\"PLEIADES\")\n",
        "\n",
        "import seaborn as sns\n",
        "%matplotlib inline\n",
        "# Creating a bar plot\n",
        "#feature_names = [\"RA\",\"DEC\",\"pmra\",\"pmdec\",\t\"plx\",\"gmagFlux\",\t\"gmagFluxErr\",\t\"gmagNobs\",\t\"expectedPoissonErr\",\t\"expectedPoisNobsErr\", \"poissonErrDiff\",\t\"poisNobsErrDiff\"]\n",
        "feature_names = [\"poissonErrDiff\",\t\"poisNobsErrDiff\"]\n",
        "feature_imp = pd.Series(clf.feature_importances_, index = feature_names).sort_values(ascending=False)\n",
        "feature_imp\n",
        "sns.barplot(x = feature_imp, y = feature_imp.index, palette=\"rocket\",label =  \"n_estimator = 10\")\n",
        "# Add labels to your graph\n",
        "plt.xlabel('Feature Importance Score')\n",
        "plt.ylabel('Features')\n",
        "#plt.title(\"Visualizing Important Features\")\n",
        "plt.legend()\n",
        "plt.show()\n",
        "\n",
        "#pleiades with flux(5), without (10)"
      ],
      "execution_count": 5,
      "outputs": [
        {
          "output_type": "stream",
          "name": "stdout",
          "text": [
            "Accuracy: 0.9994980808975494\n",
            "PLEIADES\n"
          ]
        },
        {
          "output_type": "display_data",
          "data": {
            "image/png": "[encoded data removed]",
            "text/plain": [
              "<Figure size 432x288 with 1 Axes>"
            ]
          },
          "metadata": {
            "needs_background": "light"
          }
        }
      ]
    },
    {
      "cell_type": "code",
      "metadata": {
        "colab": {
          "base_uri": "https://localhost:8080/",
          "height": 439
        },
        "id": "jb3yn9oGQCpn",
        "outputId": "da2f879a-3b3c-41c3-f03c-d7d78bb70b1e"
      },
      "source": [
        "data = pickle.load(open(\"finalHyadesSet.pkl\", \"rb\"))\n",
        "data"
      ],
      "execution_count": null,
      "outputs": [
        {
          "output_type": "execute_result",
          "data": {
            "text/html": [
              "<div>\n",
              "<style scoped>\n",
              "    .dataframe tbody tr th:only-of-type {\n",
              "        vertical-align: middle;\n",
              "    }\n",
              "\n",
              "    .dataframe tbody tr th {\n",
              "        vertical-align: top;\n",
              "    }\n",
              "\n",
              "    .dataframe thead th {\n",
              "        text-align: right;\n",
              "    }\n",
              "</style>\n",
              "<table border=\"1\" class=\"dataframe\">\n",
              "  <thead>\n",
              "    <tr style=\"text-align: right;\">\n",
              "      <th></th>\n",
              "      <th>RA</th>\n",
              "      <th>DEC</th>\n",
              "      <th>pmra</th>\n",
              "      <th>pmdec</th>\n",
              "      <th>plx</th>\n",
              "      <th>gmagFlux</th>\n",
              "      <th>gmagFluxErr</th>\n",
              "      <th>gmagNobs</th>\n",
              "      <th>expectedPoissonErr</th>\n",
              "      <th>expectedPoisNobsErr</th>\n",
              "      <th>Membership</th>\n",
              "      <th>poissonErrDiff</th>\n",
              "      <th>poisNobsErrDiff</th>\n",
              "    </tr>\n",
              "  </thead>\n",
              "  <tbody>\n",
              "    <tr>\n",
              "      <th>0</th>\n",
              "      <td>28.336420</td>\n",
              "      <td>23.444761</td>\n",
              "      <td>210.589996</td>\n",
              "      <td>-9.170000</td>\n",
              "      <td>23.650000</td>\n",
              "      <td>4.121955e+05</td>\n",
              "      <td>244.732208</td>\n",
              "      <td>182.0</td>\n",
              "      <td>642.024536</td>\n",
              "      <td>47.590027</td>\n",
              "      <td>1</td>\n",
              "      <td>-397.292358</td>\n",
              "      <td>197.142181</td>\n",
              "    </tr>\n",
              "    <tr>\n",
              "      <th>1</th>\n",
              "      <td>29.172892</td>\n",
              "      <td>30.476345</td>\n",
              "      <td>211.990005</td>\n",
              "      <td>-13.180000</td>\n",
              "      <td>23.870001</td>\n",
              "      <td>1.625958e+04</td>\n",
              "      <td>10.107201</td>\n",
              "      <td>195.0</td>\n",
              "      <td>127.513039</td>\n",
              "      <td>9.131398</td>\n",
              "      <td>1</td>\n",
              "      <td>-117.405838</td>\n",
              "      <td>0.975802</td>\n",
              "    </tr>\n",
              "    <tr>\n",
              "      <th>2</th>\n",
              "      <td>30.597960</td>\n",
              "      <td>37.496319</td>\n",
              "      <td>246.539993</td>\n",
              "      <td>-37.750000</td>\n",
              "      <td>28.100000</td>\n",
              "      <td>1.301937e+05</td>\n",
              "      <td>117.670265</td>\n",
              "      <td>215.0</td>\n",
              "      <td>360.823639</td>\n",
              "      <td>24.607967</td>\n",
              "      <td>1</td>\n",
              "      <td>-243.153366</td>\n",
              "      <td>93.062294</td>\n",
              "    </tr>\n",
              "    <tr>\n",
              "      <th>3</th>\n",
              "      <td>32.806900</td>\n",
              "      <td>20.972853</td>\n",
              "      <td>258.380005</td>\n",
              "      <td>-13.080000</td>\n",
              "      <td>29.969999</td>\n",
              "      <td>2.678869e+04</td>\n",
              "      <td>19.215439</td>\n",
              "      <td>180.0</td>\n",
              "      <td>163.672501</td>\n",
              "      <td>12.199429</td>\n",
              "      <td>1</td>\n",
              "      <td>-144.457062</td>\n",
              "      <td>7.016010</td>\n",
              "    </tr>\n",
              "    <tr>\n",
              "      <th>4</th>\n",
              "      <td>32.846451</td>\n",
              "      <td>21.377348</td>\n",
              "      <td>275.079987</td>\n",
              "      <td>-11.750000</td>\n",
              "      <td>31.900000</td>\n",
              "      <td>2.549353e+07</td>\n",
              "      <td>15034.199219</td>\n",
              "      <td>183.0</td>\n",
              "      <td>5049.111816</td>\n",
              "      <td>373.241089</td>\n",
              "      <td>1</td>\n",
              "      <td>9985.087891</td>\n",
              "      <td>14660.958008</td>\n",
              "    </tr>\n",
              "    <tr>\n",
              "      <th>...</th>\n",
              "      <td>...</td>\n",
              "      <td>...</td>\n",
              "      <td>...</td>\n",
              "      <td>...</td>\n",
              "      <td>...</td>\n",
              "      <td>...</td>\n",
              "      <td>...</td>\n",
              "      <td>...</td>\n",
              "      <td>...</td>\n",
              "      <td>...</td>\n",
              "      <td>...</td>\n",
              "      <td>...</td>\n",
              "      <td>...</td>\n",
              "    </tr>\n",
              "    <tr>\n",
              "      <th>1567</th>\n",
              "      <td>78.611702</td>\n",
              "      <td>34.380989</td>\n",
              "      <td>2.361205</td>\n",
              "      <td>-6.011450</td>\n",
              "      <td>0.451837</td>\n",
              "      <td>3.984241e+02</td>\n",
              "      <td>0.971833</td>\n",
              "      <td>422.0</td>\n",
              "      <td>19.960564</td>\n",
              "      <td>0.971665</td>\n",
              "      <td>0</td>\n",
              "      <td>-18.988729</td>\n",
              "      <td>0.000168</td>\n",
              "    </tr>\n",
              "    <tr>\n",
              "      <th>1568</th>\n",
              "      <td>86.954445</td>\n",
              "      <td>23.592710</td>\n",
              "      <td>0.120132</td>\n",
              "      <td>-3.302779</td>\n",
              "      <td>0.743092</td>\n",
              "      <td>2.569508e+05</td>\n",
              "      <td>68.819939</td>\n",
              "      <td>405.0</td>\n",
              "      <td>506.903137</td>\n",
              "      <td>25.188221</td>\n",
              "      <td>0</td>\n",
              "      <td>-438.083191</td>\n",
              "      <td>43.631718</td>\n",
              "    </tr>\n",
              "    <tr>\n",
              "      <th>1569</th>\n",
              "      <td>85.147247</td>\n",
              "      <td>29.859201</td>\n",
              "      <td>-0.392087</td>\n",
              "      <td>-0.318495</td>\n",
              "      <td>-0.502073</td>\n",
              "      <td>1.328291e+02</td>\n",
              "      <td>0.816131</td>\n",
              "      <td>317.0</td>\n",
              "      <td>11.525148</td>\n",
              "      <td>0.647317</td>\n",
              "      <td>0</td>\n",
              "      <td>-10.709018</td>\n",
              "      <td>0.168814</td>\n",
              "    </tr>\n",
              "    <tr>\n",
              "      <th>1570</th>\n",
              "      <td>42.245438</td>\n",
              "      <td>49.470097</td>\n",
              "      <td>1.355665</td>\n",
              "      <td>-0.779477</td>\n",
              "      <td>0.549813</td>\n",
              "      <td>2.999610e+03</td>\n",
              "      <td>2.115602</td>\n",
              "      <td>247.0</td>\n",
              "      <td>54.768700</td>\n",
              "      <td>3.484849</td>\n",
              "      <td>0</td>\n",
              "      <td>-52.653099</td>\n",
              "      <td>-1.369247</td>\n",
              "    </tr>\n",
              "    <tr>\n",
              "      <th>1571</th>\n",
              "      <td>82.612366</td>\n",
              "      <td>27.828827</td>\n",
              "      <td>0.720682</td>\n",
              "      <td>-1.348727</td>\n",
              "      <td>0.538367</td>\n",
              "      <td>8.639900e+02</td>\n",
              "      <td>1.449579</td>\n",
              "      <td>212.0</td>\n",
              "      <td>29.393707</td>\n",
              "      <td>2.018768</td>\n",
              "      <td>0</td>\n",
              "      <td>-27.944128</td>\n",
              "      <td>-0.569189</td>\n",
              "    </tr>\n",
              "  </tbody>\n",
              "</table>\n",
              "<p>1572 rows × 13 columns</p>\n",
              "</div>"
            ],
            "text/plain": [
              "             RA        DEC  ...  poissonErrDiff  poisNobsErrDiff\n",
              "0     28.336420  23.444761  ...     -397.292358       197.142181\n",
              "1     29.172892  30.476345  ...     -117.405838         0.975802\n",
              "2     30.597960  37.496319  ...     -243.153366        93.062294\n",
              "3     32.806900  20.972853  ...     -144.457062         7.016010\n",
              "4     32.846451  21.377348  ...     9985.087891     14660.958008\n",
              "...         ...        ...  ...             ...              ...\n",
              "1567  78.611702  34.380989  ...      -18.988729         0.000168\n",
              "1568  86.954445  23.592710  ...     -438.083191        43.631718\n",
              "1569  85.147247  29.859201  ...      -10.709018         0.168814\n",
              "1570  42.245438  49.470097  ...      -52.653099        -1.369247\n",
              "1571  82.612366  27.828827  ...      -27.944128        -0.569189\n",
              "\n",
              "[1572 rows x 13 columns]"
            ]
          },
          "metadata": {},
          "execution_count": 13
        }
      ]
    },
    {
      "cell_type": "code",
      "metadata": {
        "id": "CnN3zVdqT922",
        "colab": {
          "base_uri": "https://localhost:8080/",
          "height": 279
        },
        "outputId": "27d62baf-f817-43a1-e851-3094737226fa"
      },
      "source": [
        "import csv\n",
        "import numpy as np\n",
        "def read_in(file = ''):\n",
        "    csvfile = open(file, newline = '')\n",
        "    #get the data from any csv\n",
        "    data = csv.reader(csvfile)\n",
        "    ra0  = []\n",
        "    dec0 = []\n",
        "    pmra0  = []\n",
        "    pmdec0 = []\n",
        "    #skip first line = header \n",
        "    skippeddata = iter(data)\n",
        "    next(skippeddata)\n",
        "\n",
        "    for row in skippeddata:\n",
        "        ra = row[2]\n",
        "        ra = float(ra)\n",
        "        ra0.append(ra)\n",
        "        \n",
        "        dec = row[3]\n",
        "        dec = float(dec)\n",
        "        dec0.append(dec)\n",
        "\n",
        "        pmra = row[21]\n",
        "        pmra = float(pmra)\n",
        "        pmra0.append(pmra)\n",
        "        \n",
        "        pmdec = row[22]\n",
        "        pmdec = float(pmdec)\n",
        "        pmdec0.append(pmdec)\n",
        "        \n",
        "    a = np.array(ra0)\n",
        "    b = np.array(dec0)\n",
        "    c = np.array(pmra0)\n",
        "    d = np.array(pmdec0)\n",
        "    \n",
        "    return a, b, c, d\n",
        "\n",
        "#ra, dec, pmra, pmdec = read_in(file = 'barber_format.csv')\n",
        "\n",
        "#PM = []\n",
        "#for i in range(len(ra)): \n",
        "#  propermotion = np.sqrt(dec[i]**2 + ra[i]**2*(np.cos(dec[i])**2))\n",
        "  #print(propermotion)\n",
        "#  PM.append(propermotion)\n",
        "\n",
        "#PM = np.array(PM)\n",
        "\n",
        "\n",
        "data = pd.read_pickle(\"hyadesMembers.pkl\")\n",
        "data0 = pd.read_pickle(\"hyadesNonMembers.pkl\")\n",
        "data1 = pd.read_pickle(\"hyadesNonMembersBigSet.pkl\")\n",
        "plt.figure(1)\n",
        "plt.scatter(data[\"RA\"],data[\"DEC\"], s = 2.0, label = \"Hyades Members\", c = \"darkmagenta\")\n",
        "#plt.scatter(data0[\"RA\"],data0[\"DEC\"],s=2.0, label = \"Hyades Non-Members\")\n",
        "plt.scatter(data1[\"RA\"],data1[\"DEC\"],s=2.0, label = \"Hyades Non-Members\", c = \"lightpink\")\n",
        "#plt.title(\"Right Ascension and Declination of Unknown Association\")\n",
        "plt.xlabel(\"Right Ascension (degrees)\")\n",
        "plt.ylabel(\"Declination (degrees)\")\n",
        "plt.legend()\n",
        "plt.show()\n",
        "#print(\"\\n\")\n",
        "#plt.figure()\n",
        "#plt.scatter(pmra, pmdec, s = 2.0)\n",
        "#plt.xlabel(\"mu alpha\")\n",
        "#plt.ylabel(\"mu delta\")\n",
        "#plt.show()"
      ],
      "execution_count": null,
      "outputs": [
        {
          "output_type": "display_data",
          "data": {
            "image/png": "[encoded data removed]",
            "text/plain": [
              "<Figure size 432x288 with 1 Axes>"
            ]
          },
          "metadata": {
            "needs_background": "light"
          }
        }
      ]
    },
    {
      "cell_type": "code",
      "metadata": {
        "colab": {
          "base_uri": "https://localhost:8080/",
          "height": 279
        },
        "id": "GMHtYEbEhgaw",
        "outputId": "4bff3fb5-5a88-46f9-e74a-44c2728b39cb"
      },
      "source": [
        "data = pickle.load(open(\"finalPleiadesSet.pkl\", \"rb\"))\n",
        "data = pd.DataFrame(data)\n",
        "\n",
        "data.head()\n",
        "\n",
        "\n",
        "ra  = data[\"RA\"]\n",
        "dec = data[\"DEC\"]\n",
        "mem = data[\"Membership\"]\n",
        "\n",
        "ranon     = ra[np.where(mem == 0)[0]]\n",
        "decnon    = dec[np.where(mem == 0)[0]]\n",
        "ramem     = ra[np.where(mem == 1)[0]] \n",
        "decmem    = dec[np.where(mem == 1)[0]]\n",
        "\n",
        "plt.figure(1)\n",
        "plt.scatter(ranon,decnon, s = 2.0, label = \"Pleiades Non-Members\", c = \"lightpink\")\n",
        "#plt.scatter(data0[\"RA\"],data0[\"DEC\"],s=2.0, label = \"Hyades Non-Members\")\n",
        "plt.scatter(ramem,decmem,s=2.0, label = \"Pleiades Members\", c = \"darkmagenta\")\n",
        "#plt.title(\"Right Ascension and Declination of Unknown Association\")\n",
        "plt.xlabel(\"Right Ascension (degrees)\")\n",
        "plt.ylabel(\"Declination (degrees)\")\n",
        "plt.legend()\n",
        "plt.show()"
      ],
      "execution_count": null,
      "outputs": [
        {
          "output_type": "display_data",
          "data": {
            "image/png": "[encoded data removed]",
            "text/plain": [
              "<Figure size 432x288 with 1 Axes>"
            ]
          },
          "metadata": {
            "needs_background": "light"
          }
        }
      ]
    },
    {
      "cell_type": "code",
      "metadata": {
        "id": "5hlm7Z58nONF",
        "colab": {
          "base_uri": "https://localhost:8080/",
          "height": 265
        },
        "outputId": "5a75e0a7-ecee-49b7-f0f1-0f2d458b6c37"
      },
      "source": [
        "#for i in data: \n",
        "#  u = np.random.rand(1)\n",
        "#  if mem[i] == 0: \n",
        "#    if u < 0.5: \n",
        " #     plt.plot(ranon, decnon)\n",
        "plt.plot(ramem, decmem, '.')\n",
        "plt.show()"
      ],
      "execution_count": null,
      "outputs": [
        {
          "output_type": "display_data",
          "data": {
            "image/png": "[encoded data removed]",
            "text/plain": [
              "<Figure size 432x288 with 1 Axes>"
            ]
          },
          "metadata": {
            "needs_background": "light"
          }
        }
      ]
    },
    {
      "cell_type": "code",
      "metadata": {
        "id": "EVLmTsL-2vhs"
      },
      "source": [
        ""
      ],
      "execution_count": null,
      "outputs": []
    }
  ]
}