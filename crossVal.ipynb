{
  "nbformat": 4,
  "nbformat_minor": 0,
  "metadata": {
    "colab": {
      "name": "crossVal.ipynb",
      "provenance": [],
      "collapsed_sections": []
    },
    "kernelspec": {
      "name": "python3",
      "display_name": "Python 3"
    },
    "language_info": {
      "name": "python"
    }
  },
  "cells": [
    {
      "cell_type": "code",
      "metadata": {
        "colab": {
          "base_uri": "https://localhost:8080/"
        },
        "id": "SvvpqUebYw_D",
        "outputId": "f0f51aa2-f967-4dc9-8f73-a6c11fbe9fed"
      },
      "source": [
        "!pip3 install pickle5\n",
        "import pickle5 as pickle"
      ],
      "execution_count": null,
      "outputs": [
        {
          "output_type": "stream",
          "name": "stdout",
          "text": [
            "Collecting pickle5\n",
            "  Downloading pickle5-0.0.12-cp37-cp37m-manylinux_2_5_x86_64.manylinux1_x86_64.whl (256 kB)\n",
            "\u001b[?25l\r\u001b[K     |█▎                              | 10 kB 19.4 MB/s eta 0:00:01\r\u001b[K     |██▋                             | 20 kB 24.2 MB/s eta 0:00:01\r\u001b[K     |███▉                            | 30 kB 28.3 MB/s eta 0:00:01\r\u001b[K     |█████▏                          | 40 kB 29.8 MB/s eta 0:00:01\r\u001b[K     |██████▍                         | 51 kB 20.2 MB/s eta 0:00:01\r\u001b[K     |███████▊                        | 61 kB 22.0 MB/s eta 0:00:01\r\u001b[K     |█████████                       | 71 kB 19.7 MB/s eta 0:00:01\r\u001b[K     |██████████▎                     | 81 kB 20.6 MB/s eta 0:00:01\r\u001b[K     |███████████▌                    | 92 kB 20.1 MB/s eta 0:00:01\r\u001b[K     |████████████▉                   | 102 kB 20.1 MB/s eta 0:00:01\r\u001b[K     |██████████████                  | 112 kB 20.1 MB/s eta 0:00:01\r\u001b[K     |███████████████▍                | 122 kB 20.1 MB/s eta 0:00:01\r\u001b[K     |████████████████▋               | 133 kB 20.1 MB/s eta 0:00:01\r\u001b[K     |██████████████████              | 143 kB 20.1 MB/s eta 0:00:01\r\u001b[K     |███████████████████▏            | 153 kB 20.1 MB/s eta 0:00:01\r\u001b[K     |████████████████████▌           | 163 kB 20.1 MB/s eta 0:00:01\r\u001b[K     |█████████████████████▊          | 174 kB 20.1 MB/s eta 0:00:01\r\u001b[K     |███████████████████████         | 184 kB 20.1 MB/s eta 0:00:01\r\u001b[K     |████████████████████████▎       | 194 kB 20.1 MB/s eta 0:00:01\r\u001b[K     |█████████████████████████▋      | 204 kB 20.1 MB/s eta 0:00:01\r\u001b[K     |██████████████████████████▉     | 215 kB 20.1 MB/s eta 0:00:01\r\u001b[K     |████████████████████████████▏   | 225 kB 20.1 MB/s eta 0:00:01\r\u001b[K     |█████████████████████████████▍  | 235 kB 20.1 MB/s eta 0:00:01\r\u001b[K     |██████████████████████████████▊ | 245 kB 20.1 MB/s eta 0:00:01\r\u001b[K     |████████████████████████████████| 256 kB 20.1 MB/s eta 0:00:01\r\u001b[K     |████████████████████████████████| 256 kB 20.1 MB/s \n",
            "\u001b[?25hInstalling collected packages: pickle5\n",
            "Successfully installed pickle5-0.0.12\n"
          ]
        }
      ]
    },
    {
      "cell_type": "code",
      "metadata": {
        "id": "ZcRktWTZW2Ax"
      },
      "source": [
        "%matplotlib inline\n",
        "import numpy as np\n",
        "import matplotlib.pyplot as plt\n",
        "import pandas as pd\n",
        "\n",
        "plt.style.use('seaborn')\n",
        "\n",
        "import warnings\n",
        "warnings.filterwarnings('ignore')\n",
        "\n",
        "from sklearn.model_selection import cross_val_score\n",
        "from sklearn.ensemble import RandomForestClassifier\n",
        "from sklearn.model_selection import train_test_split"
      ],
      "execution_count": null,
      "outputs": []
    },
    {
      "cell_type": "code",
      "metadata": {
        "id": "faUuqjeOXLCh"
      },
      "source": [
        "with open('finalPleiadesSet.pkl', \"rb\") as fh:\n",
        "    hS = pickle.load(fh)"
      ],
      "execution_count": null,
      "outputs": []
    },
    {
      "cell_type": "code",
      "metadata": {
        "id": "lKRzcWb7ZKiY"
      },
      "source": [
        "X = hS[[\"RA\",\"DEC\",\"pmra\",\"pmdec\",\"plx\"]] # Star Features\n",
        "y = hS[['Membership']]\n",
        "\n",
        "X_train, X_test, y_train, y_test = train_test_split(X, y, test_size=0.3)"
      ],
      "execution_count": null,
      "outputs": []
    },
    {
      "cell_type": "code",
      "metadata": {
        "colab": {
          "base_uri": "https://localhost:8080/"
        },
        "id": "Apigm9itaKJH",
        "outputId": "f99bde4d-9b80-4956-b15c-6f784f2a6ffb"
      },
      "source": [
        "RandomForestClassifier(10).fit(X_test, y_test).score(X_train, y_train)"
      ],
      "execution_count": null,
      "outputs": [
        {
          "output_type": "execute_result",
          "data": {
            "text/plain": [
              "0.9995950904719727"
            ]
          },
          "metadata": {},
          "execution_count": 23
        }
      ]
    },
    {
      "cell_type": "code",
      "metadata": {
        "colab": {
          "base_uri": "https://localhost:8080/"
        },
        "id": "e_rqbeisXAkw",
        "outputId": "dbd38dfd-efe2-46ff-b4ad-5ddb24246dfe"
      },
      "source": [
        "# checking which n_estimators value is best\n",
        "\n",
        "# store cv scores\n",
        "cvalScores = []\n",
        "\n",
        "# set of n_estimators value\n",
        "n_set = [1, 5, 10, 50, 100]\n",
        "\n",
        "# calculate a 10-fold cross val score for the set of n_estimators\n",
        "for n_est in n_set:\n",
        "    cv = cross_val_score(RandomForestClassifier(n_est), X, y, cv=10)\n",
        "    # print(cv)\n",
        "    cvalScores.append(cv.mean())\n",
        "    print(f'{n_est} : {cv.mean()}')"
      ],
      "execution_count": null,
      "outputs": [
        {
          "output_type": "stream",
          "name": "stdout",
          "text": [
            "1 : 0.9991585473870682\n",
            "5 : 0.9991031886625332\n",
            "10 : 0.9990655447298493\n",
            "50 : 0.9991142604074401\n",
            "100 : 0.9990810451727192\n"
          ]
        }
      ]
    },
    {
      "cell_type": "code",
      "metadata": {
        "colab": {
          "base_uri": "https://localhost:8080/"
        },
        "id": "9O3Ooh8LZmyK",
        "outputId": "8a00905a-83bd-43da-d06f-fa278e91dc6b"
      },
      "source": [
        "maxLoc = np.where(cvalScores == max(cvalScores))[0][0]\n",
        "print(f'Best number of estimator trees: {n_set[maxLoc]}')"
      ],
      "execution_count": null,
      "outputs": [
        {
          "output_type": "stream",
          "name": "stdout",
          "text": [
            "Best number of estimator trees: 1\n"
          ]
        }
      ]
    },
    {
      "cell_type": "code",
      "metadata": {
        "colab": {
          "base_uri": "https://localhost:8080/"
        },
        "id": "Ejx0Yy63pfs8",
        "outputId": "e2f12c38-6df1-4fe0-d68b-da855d7e6b3c"
      },
      "source": [
        "#pleiades with vg parameter\n",
        "X = hS[[\"RA\",\"DEC\",\"pmra\",\"pmdec\",\"plx\",\"gmagFluxErr\"]] # Star Features\n",
        "y = hS[['Membership']]\n",
        "\n",
        "X_train, X_test, y_train, y_test = train_test_split(X, y, test_size=0.3)\n",
        "\n",
        "# checking which n_estimators value is best\n",
        "\n",
        "# store cv scores\n",
        "cvalScores = []\n",
        "\n",
        "# set of n_estimators value\n",
        "n_set = [1, 5, 10, 50, 100]\n",
        "\n",
        "# calculate a 10-fold cross val score for the set of n_estimators\n",
        "for n_est in n_set:\n",
        "    cv = cross_val_score(RandomForestClassifier(n_est), X, y, cv=10)\n",
        "    # print(cv)\n",
        "    cvalScores.append(cv.mean())\n",
        "    print(f'{n_est} : {cv.mean()}')\n",
        "\n",
        "maxLoc = np.where(cvalScores == max(cvalScores))[0][0]\n",
        "print(f'Best number of estimator trees: {n_set[maxLoc]}')  "
      ],
      "execution_count": null,
      "outputs": [
        {
          "output_type": "stream",
          "name": "stdout",
          "text": [
            "1 : 0.9992692648361382\n",
            "5 : 0.9993157661647475\n",
            "10 : 0.9993046944198405\n",
            "50 : 0.9993024800708593\n",
            "100 : 0.9993046944198406\n",
            "Best number of estimator trees: 5\n"
          ]
        }
      ]
    },
    {
      "cell_type": "code",
      "metadata": {
        "id": "BJ2YCaohzuDE",
        "colab": {
          "base_uri": "https://localhost:8080/"
        },
        "outputId": "f3a5bb37-3a25-4b20-87e2-10dc63917873"
      },
      "source": [
        "#hyades with 5 parameters\n",
        "with open('finalHyadesSet.pkl', \"rb\") as fh:\n",
        "    hs = pickle.load(fh)\n",
        "\n",
        "X = hs[[\"RA\",\"DEC\",\"pmra\",\"pmdec\",\"plx\"]]\n",
        "y = hs['Membership']  # Star Labels\n",
        "\n",
        "X_train, X_test, y_train, y_test = train_test_split(X, y, test_size = 0.3) #splitting data into training, test sets\n",
        "\n",
        "RandomForestClassifier(10).fit(X_test, y_test).score(X_train, y_train)\n",
        "\n",
        "# checking which n_estimators value is best\n",
        "\n",
        "# store cv scores\n",
        "cvalScores = []\n",
        "\n",
        "# set of n_estimators value\n",
        "n_set = [1, 5, 10, 50, 100]\n",
        "\n",
        "# calculate a 10-fold cross val score for the set of n_estimators\n",
        "for n_est in n_set:\n",
        "    cv = cross_val_score(RandomForestClassifier(n_est), X, y, cv=10)\n",
        "    # print(cv)\n",
        "    cvalScores.append(cv.mean())\n",
        "    print(f'{n_est} : {cv.mean()}')\n",
        "\n",
        "maxLoc = np.where(cvalScores == max(cvalScores))[0][0]\n",
        "print(f'Best number of estimator trees: {n_set[maxLoc]}')"
      ],
      "execution_count": null,
      "outputs": [
        {
          "output_type": "stream",
          "name": "stdout",
          "text": [
            "1 : 0.9847133757961781\n",
            "5 : 0.986644360235427\n",
            "10 : 0.9770700636942674\n",
            "50 : 0.9847133757961783\n",
            "100 : 0.9878980891719745\n",
            "Best number of estimator trees: 100\n"
          ]
        }
      ]
    },
    {
      "cell_type": "code",
      "metadata": {
        "colab": {
          "base_uri": "https://localhost:8080/"
        },
        "id": "_SK3kwHlkUIq",
        "outputId": "6f0dfd3a-c667-4a1b-b322-af4b18ba43f4"
      },
      "source": [
        "#hyades with vg parameter\n",
        "X = hs[[\"RA\",\"DEC\",\"pmra\",\"pmdec\",\"plx\",\"gmagFluxErr\"]]\n",
        "y = hs['Membership']  # Star Labels\n",
        "\n",
        "X_train, X_test, y_train, y_test = train_test_split(X, y, test_size = 0.3) #splitting data into training, test sets\n",
        "\n",
        "RandomForestClassifier(10).fit(X_test, y_test).score(X_train, y_train)\n",
        "\n",
        "# checking which n_estimators value is best\n",
        "\n",
        "# store cv scores\n",
        "cvalScores = []\n",
        "\n",
        "# set of n_estimators value\n",
        "n_set = [1, 5, 10, 50, 100]\n",
        "\n",
        "# calculate a 10-fold cross val score for the set of n_estimators\n",
        "for n_est in n_set:\n",
        "    cv = cross_val_score(RandomForestClassifier(n_est), X, y, cv=10)\n",
        "    # print(cv)\n",
        "    cvalScores.append(cv.mean())\n",
        "    print(f'{n_est} : {cv.mean()}')\n",
        "\n",
        "maxLoc = np.where(cvalScores == max(cvalScores))[0][0]\n",
        "print(f'Best number of estimator trees: {n_set[maxLoc]}')"
      ],
      "execution_count": null,
      "outputs": [
        {
          "output_type": "stream",
          "name": "stdout",
          "text": [
            "1 : 0.9738853503184712\n",
            "5 : 0.975796178343949\n",
            "10 : 0.9955414012738852\n",
            "50 : 0.9904458598726114\n",
            "100 : 0.9847133757961783\n",
            "Best number of estimator trees: 10\n"
          ]
        }
      ]
    },
    {
      "cell_type": "code",
      "metadata": {
        "id": "-ldfaVZtohux"
      },
      "source": [
        ""
      ],
      "execution_count": null,
      "outputs": []
    }
  ]
}