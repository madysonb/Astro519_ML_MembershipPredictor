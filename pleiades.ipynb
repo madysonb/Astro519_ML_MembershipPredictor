{
  "nbformat": 4,
  "nbformat_minor": 0,
  "metadata": {
    "colab": {
      "name": "pleiades.ipynb",
      "provenance": [],
      "authorship_tag": "ABX9TyPwuBAaxk3FAXsClCk5ePUE"
    },
    "kernelspec": {
      "display_name": "Python 3",
      "name": "python3"
    },
    "language_info": {
      "name": "python"
    }
  },
  "cells": [
    {
      "cell_type": "code",
      "metadata": {
        "id": "wlAgMum6BZ11"
      },
      "source": [
        "!pip install astroquery"
      ],
      "execution_count": null,
      "outputs": []
    },
    {
      "cell_type": "code",
      "metadata": {
        "id": "YzVflqxVBdAT"
      },
      "source": [
        "import numpy as np\n",
        "import pandas as pd\n",
        "import astropy.units as u\n",
        "from astropy.coordinates import SkyCoord\n",
        "from astroquery.gaia import Gaia\n",
        "from astroquery.vizier import Vizier\n",
        "import matplotlib.pyplot as plt\n",
        "import random"
      ],
      "execution_count": null,
      "outputs": []
    },
    {
      "cell_type": "code",
      "metadata": {
        "id": "FkVhvTjJ-a3l"
      },
      "source": [
        "Vizier.ROW_LIMIT = -1\n",
        "Gaia.MAIN_GAIA_TABLE = \"gaiaedr3.gaia_source\"\n",
        "Gaia.ROW_LIMIT = -1\n",
        "\n",
        "# Pleiades - members\n",
        "pleiadesCore = Vizier.get_catalogs('J/A+A/613/A63/tableb1')['J/A+A/613/A63/tableb1']"
      ],
      "execution_count": null,
      "outputs": []
    },
    {
      "cell_type": "code",
      "metadata": {
        "colab": {
          "base_uri": "https://localhost:8080/"
        },
        "id": "Tg6qoS_kBoiE",
        "outputId": "3cea7e43-0f67-4aea-9cdf-466b299254ed"
      },
      "source": [
        "pleiadesMembers = {}\n",
        "pleiadesMembers['RA'] = []\n",
        "pleiadesMembers['DEC'] = []\n",
        "pleiadesMembers['pmra'] = []\n",
        "pleiadesMembers['pmdec'] = []\n",
        "pleiadesMembers['plx'] = []\n",
        "pleiadesMembers['gmagFlux'] = []\n",
        "pleiadesMembers['gmagFluxErr'] = []\n",
        "pleiadesMembers['gmagNobs'] = []\n",
        "pleiadesMembers['expectedPoissonErr'] = []\n",
        "pleiadesMembers['expectedPoisNobsErr'] = []\n",
        "\n",
        "for n in range(len(pleiadesCore)):\n",
        "  coord = SkyCoord(pleiadesCore['RAJ2000'][n], pleiadesCore['DEJ2000'][n], unit=(u.degree, u.degree))\n",
        "  r = Gaia.query_object_async(coordinate=coord, radius=3*u.arcsec)\n",
        "  \n",
        "  try:\n",
        "    loc = np.where(r['dist'] == min(r['dist']))[0][0]\n",
        "  except:\n",
        "    continue\n",
        "\n",
        "  gmagFlux = r['phot_g_mean_flux'][loc]\n",
        "  gmagFluxErr = r['phot_g_mean_flux_error'][loc]\n",
        "  gmagNobs = r['phot_g_n_obs'][loc]\n",
        "  gExpStr = np.sqrt(gmagFlux)\n",
        "  gExpLoo = np.sqrt(gmagFlux) / np.sqrt(gmagNobs)\n",
        "\n",
        "  pleiadesMembers['RA'].append(r['ra'][loc])\n",
        "  pleiadesMembers['DEC'].append(r['dec'][loc])\n",
        "  pleiadesMembers['pmra'].append(r['pmra'][loc])\n",
        "  pleiadesMembers['pmdec'].append(r['pmdec'][loc])\n",
        "  pleiadesMembers['plx'].append(r['parallax'][loc])\n",
        "  pleiadesMembers['gmagFlux'].append(r['phot_g_mean_flux'][loc])\n",
        "  pleiadesMembers['gmagFluxErr'].append(r['phot_g_mean_flux_error'][loc])\n",
        "  pleiadesMembers['gmagNobs'].append(r['phot_g_n_obs'][loc])\n",
        "  pleiadesMembers['expectedPoissonErr'].append(np.sqrt(r['phot_g_mean_flux'][loc]))\n",
        "  pleiadesMembers['expectedPoisNobsErr'].append(np.sqrt(r['phot_g_mean_flux'][loc]) / np.sqrt(r['phot_g_n_obs'][loc]))\n",
        " "
      ],
      "execution_count": null,
      "outputs": [
        {
          "output_type": "stream",
          "name": "stdout",
          "text": [
            "INFO: Query finished. [astroquery.utils.tap.core]\n",
            "INFO: Query finished. [astroquery.utils.tap.core]\n",
            "INFO: Query finished. [astroquery.utils.tap.core]\n",
            "INFO: Query finished. [astroquery.utils.tap.core]\n",
            "INFO: Query finished. [astroquery.utils.tap.core]\n",
            "INFO: Query finished. [astroquery.utils.tap.core]\n",
            "INFO: Query finished. [astroquery.utils.tap.core]\n",
            "INFO: Query finished. [astroquery.utils.tap.core]\n",
            "INFO: Query finished. [astroquery.utils.tap.core]\n",
            "INFO: Query finished. [astroquery.utils.tap.core]\n",
            "INFO: Query finished. [astroquery.utils.tap.core]\n",
            "INFO: Query finished. [astroquery.utils.tap.core]\n",
            "INFO: Query finished. [astroquery.utils.tap.core]\n",
            "INFO: Query finished. [astroquery.utils.tap.core]\n",
            "INFO: Query finished. [astroquery.utils.tap.core]\n",
            "INFO: Query finished. [astroquery.utils.tap.core]\n",
            "INFO: Query finished. [astroquery.utils.tap.core]\n",
            "INFO: Query finished. [astroquery.utils.tap.core]\n",
            "INFO: Query finished. [astroquery.utils.tap.core]\n",
            "INFO: Query finished. [astroquery.utils.tap.core]\n",
            "INFO: Query finished. [astroquery.utils.tap.core]\n",
            "INFO: Query finished. [astroquery.utils.tap.core]\n",
            "INFO: Query finished. [astroquery.utils.tap.core]\n",
            "INFO: Query finished. [astroquery.utils.tap.core]\n",
            "INFO: Query finished. [astroquery.utils.tap.core]\n",
            "INFO: Query finished. [astroquery.utils.tap.core]\n",
            "INFO: Query finished. [astroquery.utils.tap.core]\n",
            "INFO: Query finished. [astroquery.utils.tap.core]\n",
            "INFO: Query finished. [astroquery.utils.tap.core]\n",
            "INFO: Query finished. [astroquery.utils.tap.core]\n",
            "INFO: Query finished. [astroquery.utils.tap.core]\n",
            "INFO: Query finished. [astroquery.utils.tap.core]\n",
            "INFO: Query finished. [astroquery.utils.tap.core]\n",
            "INFO: Query finished. [astroquery.utils.tap.core]\n",
            "INFO: Query finished. [astroquery.utils.tap.core]\n",
            "INFO: Query finished. [astroquery.utils.tap.core]\n",
            "INFO: Query finished. [astroquery.utils.tap.core]\n",
            "INFO: Query finished. [astroquery.utils.tap.core]\n",
            "INFO: Query finished. [astroquery.utils.tap.core]\n",
            "INFO: Query finished. [astroquery.utils.tap.core]\n",
            "INFO: Query finished. [astroquery.utils.tap.core]\n",
            "INFO: Query finished. [astroquery.utils.tap.core]\n",
            "INFO: Query finished. [astroquery.utils.tap.core]\n",
            "INFO: Query finished. [astroquery.utils.tap.core]\n",
            "INFO: Query finished. [astroquery.utils.tap.core]\n",
            "INFO: Query finished. [astroquery.utils.tap.core]\n",
            "INFO: Query finished. [astroquery.utils.tap.core]\n",
            "INFO: Query finished. [astroquery.utils.tap.core]\n",
            "INFO: Query finished. [astroquery.utils.tap.core]\n",
            "INFO: Query finished. [astroquery.utils.tap.core]\n",
            "INFO: Query finished. [astroquery.utils.tap.core]\n",
            "INFO: Query finished. [astroquery.utils.tap.core]\n",
            "INFO: Query finished. [astroquery.utils.tap.core]\n",
            "INFO: Query finished. [astroquery.utils.tap.core]\n",
            "INFO: Query finished. [astroquery.utils.tap.core]\n",
            "INFO: Query finished. [astroquery.utils.tap.core]\n",
            "INFO: Query finished. [astroquery.utils.tap.core]\n",
            "INFO: Query finished. [astroquery.utils.tap.core]\n",
            "INFO: Query finished. [astroquery.utils.tap.core]\n",
            "INFO: Query finished. [astroquery.utils.tap.core]\n",
            "INFO: Query finished. [astroquery.utils.tap.core]\n",
            "INFO: Query finished. [astroquery.utils.tap.core]\n",
            "INFO: Query finished. [astroquery.utils.tap.core]\n",
            "INFO: Query finished. [astroquery.utils.tap.core]\n",
            "INFO: Query finished. [astroquery.utils.tap.core]\n",
            "INFO: Query finished. [astroquery.utils.tap.core]\n",
            "INFO: Query finished. [astroquery.utils.tap.core]\n",
            "INFO: Query finished. [astroquery.utils.tap.core]\n",
            "INFO: Query finished. [astroquery.utils.tap.core]\n",
            "INFO: Query finished. [astroquery.utils.tap.core]\n",
            "INFO: Query finished. [astroquery.utils.tap.core]\n",
            "INFO: Query finished. [astroquery.utils.tap.core]\n",
            "INFO: Query finished. [astroquery.utils.tap.core]\n",
            "INFO: Query finished. [astroquery.utils.tap.core]\n",
            "INFO: Query finished. [astroquery.utils.tap.core]\n",
            "INFO: Query finished. [astroquery.utils.tap.core]\n",
            "INFO: Query finished. [astroquery.utils.tap.core]\n",
            "INFO: Query finished. [astroquery.utils.tap.core]\n",
            "INFO: Query finished. [astroquery.utils.tap.core]\n",
            "INFO: Query finished. [astroquery.utils.tap.core]\n",
            "INFO: Query finished. [astroquery.utils.tap.core]\n",
            "INFO: Query finished. [astroquery.utils.tap.core]\n",
            "INFO: Query finished. [astroquery.utils.tap.core]\n",
            "INFO: Query finished. [astroquery.utils.tap.core]\n",
            "INFO: Query finished. [astroquery.utils.tap.core]\n",
            "INFO: Query finished. [astroquery.utils.tap.core]\n",
            "INFO: Query finished. [astroquery.utils.tap.core]\n",
            "INFO: Query finished. [astroquery.utils.tap.core]\n",
            "INFO: Query finished. [astroquery.utils.tap.core]\n",
            "INFO: Query finished. [astroquery.utils.tap.core]\n",
            "INFO: Query finished. [astroquery.utils.tap.core]\n",
            "INFO: Query finished. [astroquery.utils.tap.core]\n",
            "INFO: Query finished. [astroquery.utils.tap.core]\n",
            "INFO: Query finished. [astroquery.utils.tap.core]\n",
            "INFO: Query finished. [astroquery.utils.tap.core]\n",
            "INFO: Query finished. [astroquery.utils.tap.core]\n",
            "INFO: Query finished. [astroquery.utils.tap.core]\n",
            "INFO: Query finished. [astroquery.utils.tap.core]\n",
            "INFO: Query finished. [astroquery.utils.tap.core]\n",
            "INFO: Query finished. [astroquery.utils.tap.core]\n",
            "INFO: Query finished. [astroquery.utils.tap.core]\n",
            "INFO: Query finished. [astroquery.utils.tap.core]\n",
            "INFO: Query finished. [astroquery.utils.tap.core]\n",
            "INFO: Query finished. [astroquery.utils.tap.core]\n",
            "INFO: Query finished. [astroquery.utils.tap.core]\n",
            "INFO: Query finished. [astroquery.utils.tap.core]\n",
            "INFO: Query finished. [astroquery.utils.tap.core]\n",
            "INFO: Query finished. [astroquery.utils.tap.core]\n",
            "INFO: Query finished. [astroquery.utils.tap.core]\n",
            "INFO: Query finished. [astroquery.utils.tap.core]\n",
            "INFO: Query finished. [astroquery.utils.tap.core]\n",
            "INFO: Query finished. [astroquery.utils.tap.core]\n",
            "INFO: Query finished. [astroquery.utils.tap.core]\n",
            "INFO: Query finished. [astroquery.utils.tap.core]\n",
            "INFO: Query finished. [astroquery.utils.tap.core]\n",
            "INFO: Query finished. [astroquery.utils.tap.core]\n",
            "INFO: Query finished. [astroquery.utils.tap.core]\n",
            "INFO: Query finished. [astroquery.utils.tap.core]\n",
            "INFO: Query finished. [astroquery.utils.tap.core]\n",
            "INFO: Query finished. [astroquery.utils.tap.core]\n",
            "INFO: Query finished. [astroquery.utils.tap.core]\n",
            "INFO: Query finished. [astroquery.utils.tap.core]\n",
            "INFO: Query finished. [astroquery.utils.tap.core]\n",
            "INFO: Query finished. [astroquery.utils.tap.core]\n",
            "INFO: Query finished. [astroquery.utils.tap.core]\n",
            "INFO: Query finished. [astroquery.utils.tap.core]\n",
            "INFO: Query finished. [astroquery.utils.tap.core]\n",
            "INFO: Query finished. [astroquery.utils.tap.core]\n",
            "INFO: Query finished. [astroquery.utils.tap.core]\n",
            "INFO: Query finished. [astroquery.utils.tap.core]\n",
            "INFO: Query finished. [astroquery.utils.tap.core]\n",
            "INFO: Query finished. [astroquery.utils.tap.core]\n",
            "INFO: Query finished. [astroquery.utils.tap.core]\n",
            "INFO: Query finished. [astroquery.utils.tap.core]\n",
            "INFO: Query finished. [astroquery.utils.tap.core]\n",
            "INFO: Query finished. [astroquery.utils.tap.core]\n",
            "INFO: Query finished. [astroquery.utils.tap.core]\n",
            "INFO: Query finished. [astroquery.utils.tap.core]\n",
            "INFO: Query finished. [astroquery.utils.tap.core]\n",
            "INFO: Query finished. [astroquery.utils.tap.core]\n",
            "INFO: Query finished. [astroquery.utils.tap.core]\n",
            "INFO: Query finished. [astroquery.utils.tap.core]\n",
            "INFO: Query finished. [astroquery.utils.tap.core]\n",
            "INFO: Query finished. [astroquery.utils.tap.core]\n",
            "INFO: Query finished. [astroquery.utils.tap.core]\n",
            "INFO: Query finished. [astroquery.utils.tap.core]\n",
            "INFO: Query finished. [astroquery.utils.tap.core]\n",
            "INFO: Query finished. [astroquery.utils.tap.core]\n"
          ]
        }
      ]
    },
    {
      "cell_type": "code",
      "metadata": {
        "id": "2ul9nGPNUQKw"
      },
      "source": [
        "pleiadesMembers['Membership'] = [True] * len(pleiadesMembers['RA'])"
      ],
      "execution_count": null,
      "outputs": []
    },
    {
      "cell_type": "code",
      "metadata": {
        "id": "KIlTHq3VObeA"
      },
      "source": [
        "\n",
        "pleiadesMems = pd.DataFrame(pleiadesMembers)\n",
        "pleiadesMems.to_pickle('pleiadesMembers.pkl')"
      ],
      "execution_count": null,
      "outputs": []
    },
    {
      "cell_type": "code",
      "metadata": {
        "id": "cSOoyq7VYH9j",
        "colab": {
          "base_uri": "https://localhost:8080/"
        },
        "outputId": "488f46dd-8859-401a-a3f0-371ae302c072"
      },
      "source": [
        "min(pleiadesMembers['RA']), max(pleiadesMembers['RA']), min(pleiadesMembers['DEC']), max(pleiadesMembers['DEC'])"
      ],
      "execution_count": null,
      "outputs": [
        {
          "output_type": "execute_result",
          "data": {
            "text/plain": [
              "(53.30800661762213, 60.22139295579961, 19.184814108566584, 25.495030595613127)"
            ]
          },
          "metadata": {},
          "execution_count": 9
        }
      ]
    },
    {
      "cell_type": "code",
      "metadata": {
        "id": "binDd556P3YO",
        "colab": {
          "base_uri": "https://localhost:8080/"
        },
        "outputId": "9fcf4457-e9d1-4029-973d-1aeb75882085"
      },
      "source": [
        "job = Gaia.launch_job_async(\"select ra, dec, pmra, pmdec, parallax, phot_g_mean_flux, phot_g_mean_flux_error, phot_g_n_obs\"\n",
        "\"                            from gaiaedr3.gaia_source \"\n",
        "\"                            WHERE ra > 52 and ra < 61 and dec > 18 and dec < 26 \")\n",
        "\n",
        "j = job.get_results()"
      ],
      "execution_count": null,
      "outputs": [
        {
          "output_type": "stream",
          "name": "stdout",
          "text": [
            "INFO: Query finished. [astroquery.utils.tap.core]\n"
          ]
        }
      ]
    },
    {
      "cell_type": "code",
      "metadata": {
        "id": "ZieCHorkZZsC",
        "colab": {
          "base_uri": "https://localhost:8080/"
        },
        "outputId": "cfe1121f-18cc-43f4-d804-c49e530c4140"
      },
      "source": [
        "len(j)"
      ],
      "execution_count": null,
      "outputs": [
        {
          "output_type": "execute_result",
          "data": {
            "text/plain": [
              "522371"
            ]
          },
          "metadata": {},
          "execution_count": 11
        }
      ]
    },
    {
      "cell_type": "code",
      "metadata": {
        "id": "G1io46sLUcid"
      },
      "source": [
        "# grab 20000 random field stars\n",
        "randomEntriesIdx = []\n",
        "for i in range(20000):\n",
        "  tryAgain = True\n",
        "  while tryAgain:\n",
        "    rN = random.randint(0,len(j))\n",
        "    if rN not in randomEntriesIdx:\n",
        "      randomEntriesIdx.append(rN)\n",
        "      tryAgain = False\n",
        "\n",
        "# make sure no repeats of members\n",
        "goodIdx = []\n",
        "for n in randomEntriesIdx:\n",
        "  if round(j['ra'][n], 6) not in pleiadesCore['RAJ2000'] and (type(j['pmra'][n]) != np.ma.core.MaskedConstant):\n",
        "    goodIdx.append(n)\n",
        "\n",
        "\n",
        "pleiadesNonMembers = {}\n",
        "pleiadesNonMembers['RA'] = []\n",
        "pleiadesNonMembers['DEC'] = []\n",
        "pleiadesNonMembers['pmra'] = []\n",
        "pleiadesNonMembers['pmdec'] = []\n",
        "pleiadesNonMembers['plx'] = []\n",
        "pleiadesNonMembers['gmagFlux'] = []\n",
        "pleiadesNonMembers['gmagFluxErr'] = []\n",
        "pleiadesNonMembers['gmagNobs'] = []\n",
        "pleiadesNonMembers['expectedPoissonErr'] = []\n",
        "pleiadesNonMembers['expectedPoisNobsErr'] = []\n",
        "\n",
        "for n in goodIdx:\n",
        "  pleiadesNonMembers['RA'].append(j['ra'][n])\n",
        "  pleiadesNonMembers['DEC'].append(j['dec'][n])\n",
        "  pleiadesNonMembers['pmra'].append(j['pmra'][n])\n",
        "  pleiadesNonMembers['pmdec'].append(j['pmdec'][n])\n",
        "  pleiadesNonMembers['plx'].append(j['parallax'][n])\n",
        "  pleiadesNonMembers['gmagFlux'].append(j['phot_g_mean_flux'][n])\n",
        "  pleiadesNonMembers['gmagFluxErr'].append(j['phot_g_mean_flux_error'][n])\n",
        "  pleiadesNonMembers['gmagNobs'].append(j['phot_g_n_obs'][n])\n",
        "  pleiadesNonMembers['expectedPoissonErr'].append(np.sqrt(j['phot_g_mean_flux'][n]))\n",
        "  pleiadesNonMembers['expectedPoisNobsErr'].append(np.sqrt(j['phot_g_mean_flux'][n]) / np.sqrt(j['phot_g_n_obs'][n]))\n",
        "  \n",
        "  \n",
        "pleiadesNonMembers['Membership'] = [False] * len(pleiadesNonMembers['RA'])"
      ],
      "execution_count": null,
      "outputs": []
    },
    {
      "cell_type": "code",
      "metadata": {
        "id": "-wKyaw4gZHvi"
      },
      "source": [
        "# pleiadesNonMemsTrunc = pd.DataFrame(pleiadesNonMembers)\n",
        "# pleiadesNonMemsTrunc.to_pickle('pleiadesNonMembersTrunc.pkl')"
      ],
      "execution_count": null,
      "outputs": []
    },
    {
      "cell_type": "code",
      "metadata": {
        "colab": {
          "base_uri": "https://localhost:8080/",
          "height": 282
        },
        "id": "lu9cAIDnC2bz",
        "outputId": "bec46ce8-1738-42a2-d9da-c9ed00777cb0"
      },
      "source": [
        "plt.plot(pleiadesNonMemsTrunc['RA'], pleiadesNonMemsTrunc['DEC'], 'b.')\n",
        "plt.plot(pleiadesMems['RA'], pleiadesMems['DEC'], 'r.')"
      ],
      "execution_count": null,
      "outputs": [
        {
          "output_type": "execute_result",
          "data": {
            "text/plain": [
              "[<matplotlib.lines.Line2D at 0x7ff2c8e9d5d0>]"
            ]
          },
          "metadata": {},
          "execution_count": 39
        },
        {
          "output_type": "display_data",
          "data": {
            "image/png": "[encoded data removed]",
            "text/plain": [
              "<Figure size 432x288 with 1 Axes>"
            ]
          },
          "metadata": {
            "needs_background": "light"
          }
        }
      ]
    },
    {
      "cell_type": "code",
      "metadata": {
        "id": "ExEyymuuD1bm"
      },
      "source": [
        "bigPleiadesTrunc = pd.concat([pleiadesMems, pleiadesNonMemsTrunc])\n",
        "bigPleiades = pd.concat([pleiadesMems, pleiadesNonMems])"
      ],
      "execution_count": null,
      "outputs": []
    },
    {
      "cell_type": "code",
      "metadata": {
        "id": "-1woMMJoGRGx"
      },
      "source": [
        "# bigPleiadesTrunc.to_pickle('pleiadesSetCropped.pkl')\n",
        "# bigPleiades.to_pickle('pleiadesSet.pkl')"
      ],
      "execution_count": null,
      "outputs": []
    },
    {
      "cell_type": "code",
      "metadata": {
        "id": "9aIVZK3gG85I"
      },
      "source": [
        ""
      ],
      "execution_count": null,
      "outputs": []
    }
  ]
}